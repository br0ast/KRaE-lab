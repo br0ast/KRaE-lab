{
  "nbformat": 4,
  "nbformat_minor": 0,
  "metadata": {
    "colab": {
      "name": "RDFLib.ipynb",
      "provenance": [],
      "authorship_tag": "ABX9TyN014wDlKV77Bn1DixIeXFA",
      "include_colab_link": true
    },
    "kernelspec": {
      "name": "python3",
      "display_name": "Python 3"
    },
    "language_info": {
      "name": "python"
    }
  },
  "cells": [
    {
      "cell_type": "markdown",
      "metadata": {
        "id": "view-in-github",
        "colab_type": "text"
      },
      "source": [
        "<a href=\"https://colab.research.google.com/github/br0ast/KRaE-lab/blob/main/RDFLib.ipynb\" target=\"_parent\"><img src=\"https://colab.research.google.com/assets/colab-badge.svg\" alt=\"Open In Colab\"/></a>"
      ]
    },
    {
      "cell_type": "code",
      "execution_count": 17,
      "metadata": {
        "colab": {
          "base_uri": "https://localhost:8080/"
        },
        "id": "P9S6Bj9VB56p",
        "outputId": "b013ff15-085e-44b3-f5b0-e2341a05dbad"
      },
      "outputs": [
        {
          "output_type": "stream",
          "name": "stdout",
          "text": [
            "Requirement already satisfied: rdflib in /usr/local/lib/python3.7/dist-packages (6.1.1)\n",
            "Requirement already satisfied: setuptools in /usr/local/lib/python3.7/dist-packages (from rdflib) (57.4.0)\n",
            "Requirement already satisfied: pyparsing in /usr/local/lib/python3.7/dist-packages (from rdflib) (3.0.8)\n",
            "Requirement already satisfied: importlib-metadata in /usr/local/lib/python3.7/dist-packages (from rdflib) (4.11.3)\n",
            "Requirement already satisfied: isodate in /usr/local/lib/python3.7/dist-packages (from rdflib) (0.6.1)\n",
            "Requirement already satisfied: zipp>=0.5 in /usr/local/lib/python3.7/dist-packages (from importlib-metadata->rdflib) (3.8.0)\n",
            "Requirement already satisfied: typing-extensions>=3.6.4 in /usr/local/lib/python3.7/dist-packages (from importlib-metadata->rdflib) (4.1.1)\n",
            "Requirement already satisfied: six in /usr/local/lib/python3.7/dist-packages (from isodate->rdflib) (1.15.0)\n"
          ]
        }
      ],
      "source": [
        "pip install rdflib"
      ]
    },
    {
      "cell_type": "code",
      "source": [
        "from rdflib import *"
      ],
      "metadata": {
        "id": "QwquRzDWCAPm"
      },
      "execution_count": 59,
      "outputs": []
    },
    {
      "cell_type": "code",
      "source": [
        "examplegraph = Graph() #create a graph"
      ],
      "metadata": {
        "id": "JNhMQKCfCF76"
      },
      "execution_count": 60,
      "outputs": []
    },
    {
      "cell_type": "code",
      "source": [
        "namespacestring = \"https://www.example.org/\" #create a string with a namespace\n",
        "# like http://dbpedia.org/resource/ in dbpedia\n",
        "example = Namespace(namespacestring) #create a Namespace with the Namespace constructor method"
      ],
      "metadata": {
        "id": "JToexVCjCMPv"
      },
      "execution_count": 61,
      "outputs": []
    },
    {
      "cell_type": "code",
      "source": [
        "examplegraph.bind(\"ex\", example) #add the prefix to the graph"
      ],
      "metadata": {
        "id": "KO-dJY2_H7Yp"
      },
      "execution_count": 62,
      "outputs": []
    },
    {
      "cell_type": "code",
      "source": [
        "examplegraph.add((example.Bruno, example.isTutorOf, example.DHDK)) # adding a triple to the graph, the add function takes a tuple with 3 elements \n",
        "#(subject, property, object) as an input, and adds the triple to the graph"
      ],
      "metadata": {
        "colab": {
          "base_uri": "https://localhost:8080/"
        },
        "id": "f3ThKHBQIBBh",
        "outputId": "f46841b7-5964-41bc-d958-bafbd32a4d1c"
      },
      "execution_count": 63,
      "outputs": [
        {
          "output_type": "execute_result",
          "data": {
            "text/plain": [
              "<Graph identifier=N9aa9dc2e4bfb45c0a363ae157364b039 (<class 'rdflib.graph.Graph'>)>"
            ]
          },
          "metadata": {},
          "execution_count": 63
        }
      ]
    },
    {
      "cell_type": "code",
      "source": [
        "examplegraph.add((example.Bruno, example.hasRole, example.Tutor))"
      ],
      "metadata": {
        "colab": {
          "base_uri": "https://localhost:8080/"
        },
        "id": "glGOdgV8IGa3",
        "outputId": "a83abd7f-256c-49c7-970c-693626a22cc9"
      },
      "execution_count": 64,
      "outputs": [
        {
          "output_type": "execute_result",
          "data": {
            "text/plain": [
              "<Graph identifier=N9aa9dc2e4bfb45c0a363ae157364b039 (<class 'rdflib.graph.Graph'>)>"
            ]
          },
          "metadata": {},
          "execution_count": 64
        }
      ]
    },
    {
      "cell_type": "code",
      "source": [
        "examplegraph.add((example.Bruno, example.hasRole, example.PhDStudent))"
      ],
      "metadata": {
        "colab": {
          "base_uri": "https://localhost:8080/"
        },
        "id": "jc3QJ6wdIRGQ",
        "outputId": "b76b45d7-a720-4b2e-de91-f6697f3ceefe"
      },
      "execution_count": 65,
      "outputs": [
        {
          "output_type": "execute_result",
          "data": {
            "text/plain": [
              "<Graph identifier=N9aa9dc2e4bfb45c0a363ae157364b039 (<class 'rdflib.graph.Graph'>)>"
            ]
          },
          "metadata": {},
          "execution_count": 65
        }
      ]
    },
    {
      "cell_type": "code",
      "source": [
        "examplegraph.add((example.Bruno, RDFS.label, Literal(\"Bruno\"))) #Literal is used to create a literal to add to the graph, you can't add strings directly"
      ],
      "metadata": {
        "colab": {
          "base_uri": "https://localhost:8080/"
        },
        "id": "fe1RoM55IT12",
        "outputId": "f8f89f2e-61bd-44a8-ceb4-27aa729b53ba"
      },
      "execution_count": 66,
      "outputs": [
        {
          "output_type": "execute_result",
          "data": {
            "text/plain": [
              "<Graph identifier=N9aa9dc2e4bfb45c0a363ae157364b039 (<class 'rdflib.graph.Graph'>)>"
            ]
          },
          "metadata": {},
          "execution_count": 66
        }
      ]
    },
    {
      "cell_type": "code",
      "source": [
        "examplegraph.add((example.Bruno, example.livesIn, URIRef(\"http://dbpedia.org/resource/Amsterdam\"))) #URIRef is used when the URI of the element you are\n",
        "# adding is not bound to the graph or when you iterate to get multiple triples at the same time"
      ],
      "metadata": {
        "colab": {
          "base_uri": "https://localhost:8080/"
        },
        "id": "PcLzdb1hIaeq",
        "outputId": "ae3a9b63-c581-45d6-f919-bbe6d2416c8b"
      },
      "execution_count": 67,
      "outputs": [
        {
          "output_type": "execute_result",
          "data": {
            "text/plain": [
              "<Graph identifier=N9aa9dc2e4bfb45c0a363ae157364b039 (<class 'rdflib.graph.Graph'>)>"
            ]
          },
          "metadata": {},
          "execution_count": 67
        }
      ]
    },
    {
      "cell_type": "code",
      "source": [
        "print(examplegraph.serialize(format=\"ttl\"))"
      ],
      "metadata": {
        "colab": {
          "base_uri": "https://localhost:8080/"
        },
        "id": "51reAZfjmh8D",
        "outputId": "9c383034-dd7f-4323-a6f1-8134c879aeb0"
      },
      "execution_count": 68,
      "outputs": [
        {
          "output_type": "stream",
          "name": "stdout",
          "text": [
            "@prefix ex: <https://www.example.org/> .\n",
            "@prefix rdfs: <http://www.w3.org/2000/01/rdf-schema#> .\n",
            "\n",
            "ex:Bruno rdfs:label \"Bruno\" ;\n",
            "    ex:hasRole ex:PhDStudent,\n",
            "        ex:Tutor ;\n",
            "    ex:isTutorOf ex:DHDK ;\n",
            "    ex:livesIn <http://dbpedia.org/resource/Amsterdam> .\n",
            "\n",
            "\n"
          ]
        }
      ]
    },
    {
      "cell_type": "code",
      "source": [
        "dbr = Namespace(\"http://dbpedia.org/resource/\")"
      ],
      "metadata": {
        "id": "rEsOBhT9mpPr"
      },
      "execution_count": 69,
      "outputs": []
    },
    {
      "cell_type": "code",
      "source": [
        "examplegraph.bind(\"dbr\", dbr)"
      ],
      "metadata": {
        "id": "gkI3EIw0m2K1"
      },
      "execution_count": 70,
      "outputs": []
    },
    {
      "cell_type": "code",
      "source": [
        "print(examplegraph.serialize(format=\"ttl\"))"
      ],
      "metadata": {
        "colab": {
          "base_uri": "https://localhost:8080/"
        },
        "id": "YUOkKI25m4dl",
        "outputId": "b2f1ceb9-1292-421f-d9cf-8896aef5c489"
      },
      "execution_count": 71,
      "outputs": [
        {
          "output_type": "stream",
          "name": "stdout",
          "text": [
            "@prefix dbr: <http://dbpedia.org/resource/> .\n",
            "@prefix ex: <https://www.example.org/> .\n",
            "@prefix rdfs: <http://www.w3.org/2000/01/rdf-schema#> .\n",
            "\n",
            "ex:Bruno rdfs:label \"Bruno\" ;\n",
            "    ex:hasRole ex:PhDStudent,\n",
            "        ex:Tutor ;\n",
            "    ex:isTutorOf ex:DHDK ;\n",
            "    ex:livesIn dbr:Amsterdam .\n",
            "\n",
            "\n"
          ]
        }
      ]
    },
    {
      "cell_type": "code",
      "source": [
        "automaticallyconvertedgraph = Graph()\n",
        "automaticallyconvertedgraph.bind(\"ex\", example)\n",
        "automaticallyconvertedgraph.bind(\"dbr\", dbr)"
      ],
      "metadata": {
        "id": "aPKWLbuZm52K"
      },
      "execution_count": 72,
      "outputs": []
    },
    {
      "cell_type": "code",
      "source": [
        "startingdata = {\"ex:Bruno\":{\"literals\":{\"ex:name\":\"Bruno\", \"ex:age\":26}, \"uris\":{\"ex:hasRole\":[\"ex:PhDStudent\", \"ex:Tutor\"], \"ex:isTutorOf\":\"ex:DHDK\", \"ex:livesIn\":\"dbr:Amsterdam\"}},\n",
        "                \"ex:Valentina\":{\"literals\":{\"ex:name\":\"Valentina\", \"ex:age\":26}, \"uris\":{\"ex:hasRole\":[\"ex:PhDStudent\", \"ex:Tutor\"], \"ex:isTutorOf\":\"ex:DHDK\", \"ex:livesIn\":\"dbr:Bologna\"}}}"
      ],
      "metadata": {
        "id": "-KwkYsVYnDYi"
      },
      "execution_count": 73,
      "outputs": []
    },
    {
      "cell_type": "code",
      "source": [
        "dbpediauri = \"http://dbpedia.org/resource/\"\n",
        "for person in startingdata:\n",
        "  if \"ex:\" in person:\n",
        "    personuri = URIRef(person.replace(\"ex:\", namespacestring))\n",
        "    for literal in startingdata[person][\"literals\"]:\n",
        "      if type(startingdata[person][\"literals\"][literal]) == str:\n",
        "        lit = startingdata[person][\"literals\"][literal]\n",
        "        automaticallyconvertedgraph.add((personuri, URIRef(literal.replace(\"ex:\", namespacestring)), Literal(lit)))\n",
        "    for uri in startingdata[person][\"uris\"]:\n",
        "      if type(startingdata[person][\"uris\"][uri]) == str:\n",
        "        uristring = startingdata[person][\"uris\"][uri]\n",
        "        if \"ex:\" in uristring:\n",
        "          uristring = uristring.replace(\"ex:\", namespacestring)\n",
        "        if \"dbr:\" in uristring:\n",
        "          uristring = uristring.replace(\"dbr:\", dbpediauri)\n",
        "        automaticallyconvertedgraph.add((personuri, URIRef(uri.replace(\"ex:\", namespacestring)), URIRef(uristring)))\n",
        "      else:\n",
        "        for multiobject in startingdata[person][\"uris\"][uri]:\n",
        "          uristring = multiobject.replace(\"ex:\", namespacestring)\n",
        "          automaticallyconvertedgraph.add((personuri, URIRef(uri.replace(\"ex:\", namespacestring)), URIRef(uristring)))\n"
      ],
      "metadata": {
        "id": "t8fnXeM7nt0d"
      },
      "execution_count": 74,
      "outputs": []
    },
    {
      "cell_type": "code",
      "source": [
        "print(automaticallyconvertedgraph.serialize(format=\"ttl\"))"
      ],
      "metadata": {
        "colab": {
          "base_uri": "https://localhost:8080/"
        },
        "id": "VqVT9X8Qsx7V",
        "outputId": "d4da2bd1-1e34-4747-96c9-e9a9e53f05bb"
      },
      "execution_count": 75,
      "outputs": [
        {
          "output_type": "stream",
          "name": "stdout",
          "text": [
            "@prefix dbr: <http://dbpedia.org/resource/> .\n",
            "@prefix ex: <https://www.example.org/> .\n",
            "\n",
            "ex:Bruno ex:hasRole ex:PhDStudent,\n",
            "        ex:Tutor ;\n",
            "    ex:isTutorOf ex:DHDK ;\n",
            "    ex:livesIn dbr:Amsterdam ;\n",
            "    ex:name \"Bruno\" .\n",
            "\n",
            "ex:Valentina ex:hasRole ex:PhDStudent,\n",
            "        ex:Tutor ;\n",
            "    ex:isTutorOf ex:DHDK ;\n",
            "    ex:livesIn dbr:Bologna ;\n",
            "    ex:name \"Valentina\" .\n",
            "\n",
            "\n"
          ]
        }
      ]
    },
    {
      "cell_type": "code",
      "source": [
        "for s,p,o in automaticallyconvertedgraph.triples((None, None, None)): #iterates over triples without specifing any \n",
        "  print(s,p,o)"
      ],
      "metadata": {
        "colab": {
          "base_uri": "https://localhost:8080/"
        },
        "id": "N1Imsb28s18i",
        "outputId": "b1d1bb40-e1bb-42dd-d928-50e3263cd762"
      },
      "execution_count": 76,
      "outputs": [
        {
          "output_type": "stream",
          "name": "stdout",
          "text": [
            "https://www.example.org/Valentina https://www.example.org/hasRole https://www.example.org/Tutor\n",
            "https://www.example.org/Valentina https://www.example.org/livesIn http://dbpedia.org/resource/Bologna\n",
            "https://www.example.org/Bruno https://www.example.org/hasRole https://www.example.org/PhDStudent\n",
            "https://www.example.org/Valentina https://www.example.org/hasRole https://www.example.org/PhDStudent\n",
            "https://www.example.org/Valentina https://www.example.org/isTutorOf https://www.example.org/DHDK\n",
            "https://www.example.org/Bruno https://www.example.org/hasRole https://www.example.org/Tutor\n",
            "https://www.example.org/Bruno https://www.example.org/livesIn http://dbpedia.org/resource/Amsterdam\n",
            "https://www.example.org/Bruno https://www.example.org/name Bruno\n",
            "https://www.example.org/Bruno https://www.example.org/isTutorOf https://www.example.org/DHDK\n",
            "https://www.example.org/Valentina https://www.example.org/name Valentina\n"
          ]
        }
      ]
    },
    {
      "cell_type": "code",
      "source": [
        "for s,p,o in automaticallyconvertedgraph.triples((None, example.hasRole, None)): #iterates over triples that have a specific property\n",
        "  print(s,p,o)"
      ],
      "metadata": {
        "colab": {
          "base_uri": "https://localhost:8080/"
        },
        "id": "howInvVouCc-",
        "outputId": "d5dc2e9d-3043-4ab2-b105-590a4d23421e"
      },
      "execution_count": 77,
      "outputs": [
        {
          "output_type": "stream",
          "name": "stdout",
          "text": [
            "https://www.example.org/Bruno https://www.example.org/hasRole https://www.example.org/PhDStudent\n",
            "https://www.example.org/Valentina https://www.example.org/hasRole https://www.example.org/PhDStudent\n",
            "https://www.example.org/Bruno https://www.example.org/hasRole https://www.example.org/Tutor\n",
            "https://www.example.org/Valentina https://www.example.org/hasRole https://www.example.org/Tutor\n"
          ]
        }
      ]
    },
    {
      "cell_type": "code",
      "source": [
        "for s,p,o in automaticallyconvertedgraph.triples((example.Valentina, None, None)):\n",
        "  print(s,p,o) #iterates over triples that have a specific subject"
      ],
      "metadata": {
        "colab": {
          "base_uri": "https://localhost:8080/"
        },
        "id": "Y5G_udeYuqeN",
        "outputId": "52a14033-495a-4362-891f-2820f80563db"
      },
      "execution_count": 78,
      "outputs": [
        {
          "output_type": "stream",
          "name": "stdout",
          "text": [
            "https://www.example.org/Valentina https://www.example.org/name Valentina\n",
            "https://www.example.org/Valentina https://www.example.org/hasRole https://www.example.org/PhDStudent\n",
            "https://www.example.org/Valentina https://www.example.org/hasRole https://www.example.org/Tutor\n",
            "https://www.example.org/Valentina https://www.example.org/isTutorOf https://www.example.org/DHDK\n",
            "https://www.example.org/Valentina https://www.example.org/livesIn http://dbpedia.org/resource/Bologna\n"
          ]
        }
      ]
    },
    {
      "cell_type": "code",
      "source": [
        "querytext = '''\n",
        "prefix ex: <https://www.example.org/>\n",
        "select distinct ?people where { ?people ex:hasRole ?role}\n",
        "'''\n",
        "result = automaticallyconvertedgraph.query(querytext) #you can query them too\n",
        "for el in result:\n",
        "  print(el[\"people\"])"
      ],
      "metadata": {
        "colab": {
          "base_uri": "https://localhost:8080/"
        },
        "id": "X8MLbAJhvRnt",
        "outputId": "7d10cad3-f5e3-4432-d87f-c51ab4abb794"
      },
      "execution_count": 80,
      "outputs": [
        {
          "output_type": "stream",
          "name": "stdout",
          "text": [
            "https://www.example.org/Bruno\n",
            "https://www.example.org/Valentina\n"
          ]
        }
      ]
    },
    {
      "cell_type": "code",
      "source": [
        "pip install SPARQLWrapper"
      ],
      "metadata": {
        "colab": {
          "base_uri": "https://localhost:8080/"
        },
        "id": "m-OwGegLwgDG",
        "outputId": "59d598b0-8bd4-4b07-8e0a-ea7173a3e761"
      },
      "execution_count": 81,
      "outputs": [
        {
          "output_type": "stream",
          "name": "stdout",
          "text": [
            "Collecting SPARQLWrapper\n",
            "  Downloading SPARQLWrapper-2.0.0-py3-none-any.whl (28 kB)\n",
            "Requirement already satisfied: rdflib>=6.1.1 in /usr/local/lib/python3.7/dist-packages (from SPARQLWrapper) (6.1.1)\n",
            "Requirement already satisfied: isodate in /usr/local/lib/python3.7/dist-packages (from rdflib>=6.1.1->SPARQLWrapper) (0.6.1)\n",
            "Requirement already satisfied: importlib-metadata in /usr/local/lib/python3.7/dist-packages (from rdflib>=6.1.1->SPARQLWrapper) (4.11.3)\n",
            "Requirement already satisfied: pyparsing in /usr/local/lib/python3.7/dist-packages (from rdflib>=6.1.1->SPARQLWrapper) (3.0.8)\n",
            "Requirement already satisfied: setuptools in /usr/local/lib/python3.7/dist-packages (from rdflib>=6.1.1->SPARQLWrapper) (57.4.0)\n",
            "Requirement already satisfied: zipp>=0.5 in /usr/local/lib/python3.7/dist-packages (from importlib-metadata->rdflib>=6.1.1->SPARQLWrapper) (3.8.0)\n",
            "Requirement already satisfied: typing-extensions>=3.6.4 in /usr/local/lib/python3.7/dist-packages (from importlib-metadata->rdflib>=6.1.1->SPARQLWrapper) (4.1.1)\n",
            "Requirement already satisfied: six in /usr/local/lib/python3.7/dist-packages (from isodate->rdflib>=6.1.1->SPARQLWrapper) (1.15.0)\n",
            "Installing collected packages: SPARQLWrapper\n",
            "Successfully installed SPARQLWrapper-2.0.0\n"
          ]
        }
      ]
    },
    {
      "cell_type": "code",
      "source": [
        "from SPARQLWrapper import SPARQLWrapper, JSON\n",
        "\n",
        "endpoint_url = \"https://dbpedia.org/sparql/\"\n",
        "\n",
        "query = \"\"\"\n",
        "prefix dbr: <http://dbpedia.org/resource/> \n",
        "SELECT ?p ?o\n",
        "WHERE {dbr:Amsterdam ?p ?o}\n",
        "LIMIT 25\n",
        "\"\"\"\n",
        "\n",
        "sparql = SPARQLWrapper(endpoint_url)\n",
        "sparql.setQuery(query)\n",
        "sparql.setReturnFormat(JSON)\n",
        "results = sparql.query().convert()\n",
        "\n",
        "for result in results[\"results\"][\"bindings\"]:\n",
        "    print(result[\"p\"][\"value\"], result[\"o\"][\"value\"])\n"
      ],
      "metadata": {
        "colab": {
          "base_uri": "https://localhost:8080/"
        },
        "id": "BvxeESE7vluy",
        "outputId": "eb092a61-cb45-4d48-bec5-80fab03e7eb5"
      },
      "execution_count": 86,
      "outputs": [
        {
          "output_type": "stream",
          "name": "stdout",
          "text": [
            "http://www.w3.org/1999/02/22-rdf-syntax-ns#type http://www.w3.org/2002/07/owl#Thing\n",
            "http://www.w3.org/1999/02/22-rdf-syntax-ns#type http://dbpedia.org/ontology/Place\n",
            "http://www.w3.org/1999/02/22-rdf-syntax-ns#type http://dbpedia.org/ontology/Location\n",
            "http://www.w3.org/1999/02/22-rdf-syntax-ns#type http://dbpedia.org/ontology/PopulatedPlace\n",
            "http://www.w3.org/1999/02/22-rdf-syntax-ns#type http://www.w3.org/2003/01/geo/wgs84_pos#SpatialThing\n",
            "http://www.w3.org/1999/02/22-rdf-syntax-ns#type http://schema.org/City\n",
            "http://www.w3.org/1999/02/22-rdf-syntax-ns#type http://schema.org/Place\n",
            "http://www.w3.org/1999/02/22-rdf-syntax-ns#type http://www.wikidata.org/entity/Q486972\n",
            "http://www.w3.org/1999/02/22-rdf-syntax-ns#type http://www.wikidata.org/entity/Q515\n",
            "http://www.w3.org/1999/02/22-rdf-syntax-ns#type http://dbpedia.org/class/yago/WikicatPopulatedPlacesEstablishedInThe13thCentury\n",
            "http://www.w3.org/1999/02/22-rdf-syntax-ns#type http://dbpedia.org/class/yago/WikicatPopulatedPlacesInNorthHolland\n",
            "http://www.w3.org/1999/02/22-rdf-syntax-ns#type http://dbpedia.org/class/yago/WikicatPortCities\n",
            "http://www.w3.org/1999/02/22-rdf-syntax-ns#type http://dbpedia.org/class/yago/WikicatPortCitiesAndTownsInTheNetherlands\n",
            "http://www.w3.org/1999/02/22-rdf-syntax-ns#type http://dbpedia.org/class/yago/WikicatPortCitiesAndTownsOfTheNorthSea\n",
            "http://www.w3.org/1999/02/22-rdf-syntax-ns#type http://dbpedia.org/class/yago/WikicatPortsAndHarbours\n",
            "http://www.w3.org/1999/02/22-rdf-syntax-ns#type http://dbpedia.org/ontology/City\n",
            "http://www.w3.org/1999/02/22-rdf-syntax-ns#type http://dbpedia.org/ontology/Settlement\n",
            "http://www.w3.org/1999/02/22-rdf-syntax-ns#type http://dbpedia.org/class/yago/WikicatCapitals\n",
            "http://www.w3.org/1999/02/22-rdf-syntax-ns#type http://dbpedia.org/class/yago/WikicatCapitalsInEurope\n",
            "http://www.w3.org/1999/02/22-rdf-syntax-ns#type http://dbpedia.org/class/yago/WikicatCitiesInEurope\n",
            "http://www.w3.org/1999/02/22-rdf-syntax-ns#type http://dbpedia.org/class/yago/WikicatCitiesInTheNetherlands\n",
            "http://www.w3.org/1999/02/22-rdf-syntax-ns#type http://dbpedia.org/class/yago/YagoGeoEntity\n",
            "http://www.w3.org/1999/02/22-rdf-syntax-ns#type http://dbpedia.org/class/yago/YagoLegalActorGeo\n",
            "http://www.w3.org/1999/02/22-rdf-syntax-ns#type http://dbpedia.org/class/yago/YagoPermanentlyLocatedEntity\n",
            "http://www.w3.org/1999/02/22-rdf-syntax-ns#type http://umbel.org/umbel/rc/City\n"
          ]
        }
      ]
    },
    {
      "cell_type": "code",
      "source": [
        ""
      ],
      "metadata": {
        "id": "9vjdIg35wqYI"
      },
      "execution_count": null,
      "outputs": []
    }
  ]
}
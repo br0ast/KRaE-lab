{
  "nbformat": 4,
  "nbformat_minor": 0,
  "metadata": {
    "colab": {
      "name": "RDFLib.ipynb",
      "provenance": [],
      "authorship_tag": "ABX9TyPGxJKwV0ET1xh1o5/TqQL/",
      "include_colab_link": true
    },
    "kernelspec": {
      "name": "python3",
      "display_name": "Python 3"
    },
    "language_info": {
      "name": "python"
    }
  },
  "cells": [
    {
      "cell_type": "markdown",
      "metadata": {
        "id": "view-in-github",
        "colab_type": "text"
      },
      "source": [
        "<a href=\"https://colab.research.google.com/github/br0ast/KRaE-lab/blob/main/RDFLib.ipynb\" target=\"_parent\"><img src=\"https://colab.research.google.com/assets/colab-badge.svg\" alt=\"Open In Colab\"/></a>"
      ]
    },
    {
      "cell_type": "code",
      "execution_count": 1,
      "metadata": {
        "colab": {
          "base_uri": "https://localhost:8080/"
        },
        "id": "P9S6Bj9VB56p",
        "outputId": "41489bdd-7423-43f8-e3e2-92e144f5533d"
      },
      "outputs": [
        {
          "output_type": "stream",
          "name": "stdout",
          "text": [
            "Looking in indexes: https://pypi.org/simple, https://us-python.pkg.dev/colab-wheels/public/simple/\n",
            "Collecting rdflib\n",
            "  Downloading rdflib-6.3.2-py3-none-any.whl (528 kB)\n",
            "\u001b[2K     \u001b[90m━━━━━━━━━━━━━━━━━━━━━━━━━━━━━━━━━━━━━━━\u001b[0m \u001b[32m528.1/528.1 kB\u001b[0m \u001b[31m7.8 MB/s\u001b[0m eta \u001b[36m0:00:00\u001b[0m\n",
            "\u001b[?25hRequirement already satisfied: pyparsing<4,>=2.1.0 in /usr/local/lib/python3.9/dist-packages (from rdflib) (3.0.9)\n",
            "Collecting isodate<0.7.0,>=0.6.0\n",
            "  Downloading isodate-0.6.1-py2.py3-none-any.whl (41 kB)\n",
            "\u001b[2K     \u001b[90m━━━━━━━━━━━━━━━━━━━━━━━━━━━━━━━━━━━━━━━━\u001b[0m \u001b[32m41.7/41.7 kB\u001b[0m \u001b[31m2.1 MB/s\u001b[0m eta \u001b[36m0:00:00\u001b[0m\n",
            "\u001b[?25hRequirement already satisfied: six in /usr/local/lib/python3.9/dist-packages (from isodate<0.7.0,>=0.6.0->rdflib) (1.16.0)\n",
            "Installing collected packages: isodate, rdflib\n",
            "Successfully installed isodate-0.6.1 rdflib-6.3.2\n"
          ]
        }
      ],
      "source": [
        "pip install rdflib"
      ]
    },
    {
      "cell_type": "code",
      "source": [
        "from rdflib import *"
      ],
      "metadata": {
        "id": "QwquRzDWCAPm"
      },
      "execution_count": 2,
      "outputs": []
    },
    {
      "cell_type": "code",
      "source": [
        "examplegraph = Graph() #create a graph"
      ],
      "metadata": {
        "id": "JNhMQKCfCF76"
      },
      "execution_count": 5,
      "outputs": []
    },
    {
      "cell_type": "code",
      "source": [
        "namespacestring = \"https://www.example.org/\" #create a string with a namespace\n",
        "# like http://dbpedia.org/resource/ in dbpedia\n",
        "example = Namespace(namespacestring) #create a Namespace with the Namespace constructor method"
      ],
      "metadata": {
        "id": "JToexVCjCMPv"
      },
      "execution_count": 6,
      "outputs": []
    },
    {
      "cell_type": "code",
      "source": [
        "examplegraph.bind(\"ex\", example) #add the prefix to the graph"
      ],
      "metadata": {
        "id": "KO-dJY2_H7Yp"
      },
      "execution_count": 7,
      "outputs": []
    },
    {
      "cell_type": "code",
      "source": [
        "examplegraph.add((example.Bruno, example.isTutorOf, example.DHDK)) # adding a triple to the graph, the add function takes a tuple with 3 elements \n",
        "#(subject, property, object) as an input, and adds the triple to the graph"
      ],
      "metadata": {
        "colab": {
          "base_uri": "https://localhost:8080/"
        },
        "id": "f3ThKHBQIBBh",
        "outputId": "23932acd-6312-40f9-a2bd-682b4f5d3ff1"
      },
      "execution_count": 8,
      "outputs": [
        {
          "output_type": "execute_result",
          "data": {
            "text/plain": [
              "<Graph identifier=N857908104ad64fc3bab4ccb98a2255d8 (<class 'rdflib.graph.Graph'>)>"
            ]
          },
          "metadata": {},
          "execution_count": 8
        }
      ]
    },
    {
      "cell_type": "code",
      "source": [
        "examplegraph.add((example.Bruno, example.hasRole, example.Tutor))"
      ],
      "metadata": {
        "colab": {
          "base_uri": "https://localhost:8080/"
        },
        "id": "glGOdgV8IGa3",
        "outputId": "47077d3a-4af8-45c0-9ec7-ea3316639d27"
      },
      "execution_count": 9,
      "outputs": [
        {
          "output_type": "execute_result",
          "data": {
            "text/plain": [
              "<Graph identifier=N857908104ad64fc3bab4ccb98a2255d8 (<class 'rdflib.graph.Graph'>)>"
            ]
          },
          "metadata": {},
          "execution_count": 9
        }
      ]
    },
    {
      "cell_type": "code",
      "source": [
        "examplegraph.add((example.Bruno, example.hasRole, example.PhDStudent))"
      ],
      "metadata": {
        "colab": {
          "base_uri": "https://localhost:8080/"
        },
        "id": "jc3QJ6wdIRGQ",
        "outputId": "ad1ce991-c00a-4500-e239-e24afc59efc0"
      },
      "execution_count": 10,
      "outputs": [
        {
          "output_type": "execute_result",
          "data": {
            "text/plain": [
              "<Graph identifier=N857908104ad64fc3bab4ccb98a2255d8 (<class 'rdflib.graph.Graph'>)>"
            ]
          },
          "metadata": {},
          "execution_count": 10
        }
      ]
    },
    {
      "cell_type": "code",
      "source": [
        "examplegraph.add((example.Bruno, RDFS.label, Literal(\"Bruno\"))) #Literal is used to create a literal to add to the graph, you can't add strings directly"
      ],
      "metadata": {
        "colab": {
          "base_uri": "https://localhost:8080/"
        },
        "id": "fe1RoM55IT12",
        "outputId": "b0a02b20-24da-40af-83ad-17acad84762d"
      },
      "execution_count": 11,
      "outputs": [
        {
          "output_type": "execute_result",
          "data": {
            "text/plain": [
              "<Graph identifier=N857908104ad64fc3bab4ccb98a2255d8 (<class 'rdflib.graph.Graph'>)>"
            ]
          },
          "metadata": {},
          "execution_count": 11
        }
      ]
    },
    {
      "cell_type": "code",
      "source": [
        "examplegraph.add((example.Bruno, example.livesIn, URIRef(\"http://dbpedia.org/resource/Munich\"))) #URIRef is used when the URI of the element you are\n",
        "# adding is not bound to the graph or when you iterate to get multiple triples at the same time"
      ],
      "metadata": {
        "colab": {
          "base_uri": "https://localhost:8080/"
        },
        "id": "PcLzdb1hIaeq",
        "outputId": "a85a2fb9-f62a-4402-b50a-aa8af691444a"
      },
      "execution_count": 12,
      "outputs": [
        {
          "output_type": "execute_result",
          "data": {
            "text/plain": [
              "<Graph identifier=N857908104ad64fc3bab4ccb98a2255d8 (<class 'rdflib.graph.Graph'>)>"
            ]
          },
          "metadata": {},
          "execution_count": 12
        }
      ]
    },
    {
      "cell_type": "code",
      "source": [
        "print(examplegraph.serialize(format=\"ttl\"))"
      ],
      "metadata": {
        "colab": {
          "base_uri": "https://localhost:8080/"
        },
        "id": "51reAZfjmh8D",
        "outputId": "bfc9dff1-4c27-45a4-c8b8-f8c36ced70e1"
      },
      "execution_count": 13,
      "outputs": [
        {
          "output_type": "stream",
          "name": "stdout",
          "text": [
            "@prefix ex: <https://www.example.org/> .\n",
            "@prefix rdfs: <http://www.w3.org/2000/01/rdf-schema#> .\n",
            "\n",
            "ex:Bruno rdfs:label \"Bruno\" ;\n",
            "    ex:hasRole ex:PhDStudent,\n",
            "        ex:Tutor ;\n",
            "    ex:isTutorOf ex:DHDK ;\n",
            "    ex:livesIn <http://dbpedia.org/resource/Munich> .\n",
            "\n",
            "\n"
          ]
        }
      ]
    },
    {
      "cell_type": "code",
      "source": [
        "dbr = Namespace(\"http://dbpedia.org/resource/\")"
      ],
      "metadata": {
        "id": "rEsOBhT9mpPr"
      },
      "execution_count": 14,
      "outputs": []
    },
    {
      "cell_type": "code",
      "source": [
        "examplegraph.bind(\"dbr\", dbr)"
      ],
      "metadata": {
        "id": "gkI3EIw0m2K1"
      },
      "execution_count": 15,
      "outputs": []
    },
    {
      "cell_type": "code",
      "source": [
        "print(examplegraph.serialize(format=\"ttl\"))"
      ],
      "metadata": {
        "colab": {
          "base_uri": "https://localhost:8080/"
        },
        "id": "YUOkKI25m4dl",
        "outputId": "d22be37a-2d7e-4c6a-f22e-e6df98086084"
      },
      "execution_count": 16,
      "outputs": [
        {
          "output_type": "stream",
          "name": "stdout",
          "text": [
            "@prefix dbr: <http://dbpedia.org/resource/> .\n",
            "@prefix ex: <https://www.example.org/> .\n",
            "@prefix rdfs: <http://www.w3.org/2000/01/rdf-schema#> .\n",
            "\n",
            "ex:Bruno rdfs:label \"Bruno\" ;\n",
            "    ex:hasRole ex:PhDStudent,\n",
            "        ex:Tutor ;\n",
            "    ex:isTutorOf ex:DHDK ;\n",
            "    ex:livesIn dbr:Munich .\n",
            "\n",
            "\n"
          ]
        }
      ]
    },
    {
      "cell_type": "code",
      "source": [
        "automaticallyconvertedgraph = Graph()\n",
        "automaticallyconvertedgraph.bind(\"ex\", example)\n",
        "automaticallyconvertedgraph.bind(\"dbr\", dbr)"
      ],
      "metadata": {
        "id": "aPKWLbuZm52K"
      },
      "execution_count": 68,
      "outputs": []
    },
    {
      "cell_type": "code",
      "source": [
        "startingdata = {\"ex:Bruno\":{\"literals\":{\"ex:name\":\"Bruno\", \"ex:age\":27}, \"uris\":{\"ex:hasRole\":[\"ex:PhDStudent\", \"ex:Tutor\"], \"ex:isTutorOf\":\"ex:DHDK\", \"ex:livesIn\":\"dbr:Munich\"}},\n",
        "                \"ex:Valentina\":{\"literals\":{\"ex:name\":\"Valentina\", \"ex:age\":27}, \"uris\":{\"ex:hasRole\":[\"ex:PhDStudent\", \"ex:Tutor\"], \"ex:isTutorOf\":\"ex:DHDK\", \"ex:livesIn\":[\"dbr:Graz\", \"dbr:Bologna\"]}}}"
      ],
      "metadata": {
        "id": "-KwkYsVYnDYi"
      },
      "execution_count": 69,
      "outputs": []
    },
    {
      "cell_type": "code",
      "source": [
        "from rdflib.namespace import XSD\n",
        "dbpediauri = \"http://dbpedia.org/resource/\"\n",
        "for person in startingdata: #iterate over our starting data, \"person\" is either ex:Bruno or ex:Valentina\n",
        "  if \"ex:\" in person: #checking whether we need to use the example namespace or dbpedia\n",
        "    personuri = URIRef(person.replace(\"ex:\", namespacestring)) # we replace the string with a uri that uses the namespace of example + the name without \"ex:\"\n",
        "    for literal in startingdata[person][\"literals\"]: #we check the literals\n",
        "      if type(startingdata[person][\"literals\"][literal]) == str: #if the literal is a string\n",
        "        lit = startingdata[person][\"literals\"][literal]\n",
        "        automaticallyconvertedgraph.add((personuri, URIRef(literal.replace(\"ex:\", namespacestring)), Literal(lit))) #we add the literal using the property ex:...\n",
        "      elif type(startingdata[person][\"literals\"][literal]) == int: #if the literal is an integer\n",
        "        lit = startingdata[person][\"literals\"][literal]\n",
        "        automaticallyconvertedgraph.add((personuri, URIRef(literal.replace(\"ex:\", namespacestring)), Literal(lit, datatype=\"XSD.integer\"))) # we specify the datatype using datatype=\"XSD.integer\"\n",
        "    for uri in startingdata[person][\"uris\"]: #now we look at object properties (the object of an object property will be a uri and not a literal)\n",
        "      if type(startingdata[person][\"uris\"][uri]) == str: #we check if it is a string\n",
        "        uristring = startingdata[person][\"uris\"][uri]\n",
        "        if \"ex:\" in uristring: # check whether we need to use the example namespace\n",
        "          uristring = uristring.replace(\"ex:\", namespacestring) # we make the uri of the object\n",
        "        if \"dbr:\" in uristring: # check whether we need to use the dbpedia namespace\n",
        "          uristring = uristring.replace(\"dbr:\", dbpediauri) # we make the uri of the object\n",
        "        automaticallyconvertedgraph.add((personuri, URIRef(uri.replace(\"ex:\", namespacestring)), URIRef(uristring))) #we add the property, creating a uri by replacing the ex: with the namespace, and create the triple\n",
        "      else:\n",
        "        for multiobject in startingdata[person][\"uris\"][uri]: # if it is not a string than it means it is a list with multiple object so we iterate over the object of the list\n",
        "          if \"ex:\" in multiobject:\n",
        "            uristring = multiobject.replace(\"ex:\", namespacestring) # we create the uri for each object\n",
        "          elif \"dbr:\" in multiobject:\n",
        "            uristring = multiobject.replace(\"dbr:\", dbpediauri)\n",
        "          automaticallyconvertedgraph.add((personuri, URIRef(uri.replace(\"ex:\", namespacestring)), URIRef(uristring))) # and then add the triple by replacing\n"
      ],
      "metadata": {
        "id": "t8fnXeM7nt0d"
      },
      "execution_count": 70,
      "outputs": []
    },
    {
      "cell_type": "code",
      "source": [
        "print(automaticallyconvertedgraph.serialize(format=\"ttl\"))"
      ],
      "metadata": {
        "colab": {
          "base_uri": "https://localhost:8080/"
        },
        "id": "VqVT9X8Qsx7V",
        "outputId": "bf51e02a-5ece-405c-86c4-a28877969cbe"
      },
      "execution_count": 71,
      "outputs": [
        {
          "output_type": "stream",
          "name": "stdout",
          "text": [
            "@prefix dbr: <http://dbpedia.org/resource/> .\n",
            "@prefix ex: <https://www.example.org/> .\n",
            "\n",
            "ex:Bruno ex:age \"27\"^^<XSD.integer> ;\n",
            "    ex:hasRole ex:PhDStudent,\n",
            "        ex:Tutor ;\n",
            "    ex:isTutorOf ex:DHDK ;\n",
            "    ex:livesIn dbr:Munich ;\n",
            "    ex:name \"Bruno\" .\n",
            "\n",
            "ex:Valentina ex:age \"27\"^^<XSD.integer> ;\n",
            "    ex:hasRole ex:PhDStudent,\n",
            "        ex:Tutor ;\n",
            "    ex:isTutorOf ex:DHDK ;\n",
            "    ex:livesIn dbr:Bologna,\n",
            "        dbr:Graz ;\n",
            "    ex:name \"Valentina\" .\n",
            "\n",
            "\n"
          ]
        }
      ]
    },
    {
      "cell_type": "code",
      "source": [
        "for s,p,o in automaticallyconvertedgraph.triples((None, None, None)): #iterates over triples without specifing any \n",
        "  print(s,p,o)"
      ],
      "metadata": {
        "colab": {
          "base_uri": "https://localhost:8080/"
        },
        "id": "N1Imsb28s18i",
        "outputId": "d3c3f6be-2e28-4d86-8d71-ebe8240f28e4"
      },
      "execution_count": 72,
      "outputs": [
        {
          "output_type": "stream",
          "name": "stdout",
          "text": [
            "https://www.example.org/Valentina https://www.example.org/livesIn http://dbpedia.org/resource/Bologna\n",
            "https://www.example.org/Bruno https://www.example.org/hasRole https://www.example.org/PhDStudent\n",
            "https://www.example.org/Valentina https://www.example.org/livesIn http://dbpedia.org/resource/Graz\n",
            "https://www.example.org/Bruno https://www.example.org/name Bruno\n",
            "https://www.example.org/Bruno https://www.example.org/livesIn http://dbpedia.org/resource/Munich\n",
            "https://www.example.org/Valentina https://www.example.org/age 27\n",
            "https://www.example.org/Valentina https://www.example.org/hasRole https://www.example.org/PhDStudent\n",
            "https://www.example.org/Bruno https://www.example.org/age 27\n",
            "https://www.example.org/Valentina https://www.example.org/isTutorOf https://www.example.org/DHDK\n",
            "https://www.example.org/Valentina https://www.example.org/name Valentina\n",
            "https://www.example.org/Bruno https://www.example.org/hasRole https://www.example.org/Tutor\n",
            "https://www.example.org/Valentina https://www.example.org/hasRole https://www.example.org/Tutor\n",
            "https://www.example.org/Bruno https://www.example.org/isTutorOf https://www.example.org/DHDK\n"
          ]
        }
      ]
    },
    {
      "cell_type": "code",
      "source": [
        "for s,p,o in automaticallyconvertedgraph.triples((None, example.hasRole, None)): #iterates over triples that have a specific property\n",
        "  print(s,p,o)"
      ],
      "metadata": {
        "colab": {
          "base_uri": "https://localhost:8080/"
        },
        "id": "howInvVouCc-",
        "outputId": "53d8a1ba-bb87-4988-f8c4-98266d9a0ccb"
      },
      "execution_count": 73,
      "outputs": [
        {
          "output_type": "stream",
          "name": "stdout",
          "text": [
            "https://www.example.org/Bruno https://www.example.org/hasRole https://www.example.org/PhDStudent\n",
            "https://www.example.org/Valentina https://www.example.org/hasRole https://www.example.org/PhDStudent\n",
            "https://www.example.org/Bruno https://www.example.org/hasRole https://www.example.org/Tutor\n",
            "https://www.example.org/Valentina https://www.example.org/hasRole https://www.example.org/Tutor\n"
          ]
        }
      ]
    },
    {
      "cell_type": "code",
      "source": [
        "for s,p,o in automaticallyconvertedgraph.triples((example.Valentina, None, None)):\n",
        "  print(s,p,o) #iterates over triples that have a specific subject"
      ],
      "metadata": {
        "colab": {
          "base_uri": "https://localhost:8080/"
        },
        "id": "Y5G_udeYuqeN",
        "outputId": "a60c5b1f-b910-4cda-94bd-769145e3556a"
      },
      "execution_count": 74,
      "outputs": [
        {
          "output_type": "stream",
          "name": "stdout",
          "text": [
            "https://www.example.org/Valentina https://www.example.org/name Valentina\n",
            "https://www.example.org/Valentina https://www.example.org/age 27\n",
            "https://www.example.org/Valentina https://www.example.org/hasRole https://www.example.org/PhDStudent\n",
            "https://www.example.org/Valentina https://www.example.org/hasRole https://www.example.org/Tutor\n",
            "https://www.example.org/Valentina https://www.example.org/isTutorOf https://www.example.org/DHDK\n",
            "https://www.example.org/Valentina https://www.example.org/livesIn http://dbpedia.org/resource/Graz\n",
            "https://www.example.org/Valentina https://www.example.org/livesIn http://dbpedia.org/resource/Bologna\n"
          ]
        }
      ]
    },
    {
      "cell_type": "code",
      "source": [
        "querytext = ''' \n",
        "prefix ex: <https://www.example.org/>\n",
        "select distinct ?people where { ?people ex:hasRole ?role}\n",
        "''' #we create the sparql query\n",
        "result = automaticallyconvertedgraph.query(querytext) #you can query them too\n",
        "for el in result:\n",
        "  print(el[\"people\"]) # we print the result, the \"people\" string is the same as the ?people in the query, if you put another variable in the query you need to change it here, without typing \"?\" in the results part"
      ],
      "metadata": {
        "colab": {
          "base_uri": "https://localhost:8080/"
        },
        "id": "X8MLbAJhvRnt",
        "outputId": "67122d5d-59cd-4912-8128-fcf1e2f49366"
      },
      "execution_count": 75,
      "outputs": [
        {
          "output_type": "stream",
          "name": "stdout",
          "text": [
            "https://www.example.org/Bruno\n",
            "https://www.example.org/Valentina\n"
          ]
        }
      ]
    },
    {
      "cell_type": "code",
      "source": [
        "pip install SPARQLWrapper"
      ],
      "metadata": {
        "colab": {
          "base_uri": "https://localhost:8080/"
        },
        "id": "m-OwGegLwgDG",
        "outputId": "26bd5625-eff7-404f-c913-1ec95db8cad0"
      },
      "execution_count": 25,
      "outputs": [
        {
          "output_type": "stream",
          "name": "stdout",
          "text": [
            "Looking in indexes: https://pypi.org/simple, https://us-python.pkg.dev/colab-wheels/public/simple/\n",
            "Collecting SPARQLWrapper\n",
            "  Downloading SPARQLWrapper-2.0.0-py3-none-any.whl (28 kB)\n",
            "Requirement already satisfied: rdflib>=6.1.1 in /usr/local/lib/python3.9/dist-packages (from SPARQLWrapper) (6.3.2)\n",
            "Requirement already satisfied: pyparsing<4,>=2.1.0 in /usr/local/lib/python3.9/dist-packages (from rdflib>=6.1.1->SPARQLWrapper) (3.0.9)\n",
            "Requirement already satisfied: isodate<0.7.0,>=0.6.0 in /usr/local/lib/python3.9/dist-packages (from rdflib>=6.1.1->SPARQLWrapper) (0.6.1)\n",
            "Requirement already satisfied: six in /usr/local/lib/python3.9/dist-packages (from isodate<0.7.0,>=0.6.0->rdflib>=6.1.1->SPARQLWrapper) (1.16.0)\n",
            "Installing collected packages: SPARQLWrapper\n",
            "Successfully installed SPARQLWrapper-2.0.0\n"
          ]
        }
      ]
    },
    {
      "cell_type": "code",
      "source": [
        "from SPARQLWrapper import SPARQLWrapper, JSON\n",
        "\n",
        "endpoint_url = \"https://dbpedia.org/sparql/\"\n",
        "\n",
        "query = \"\"\"\n",
        "prefix dbr: <http://dbpedia.org/resource/> \n",
        "SELECT ?city ?country\n",
        "WHERE {VALUES ?city {dbr:Munich dbr:Graz} ?city dbo:country ?country}\n",
        "\"\"\"\n",
        "\n",
        "sparql = SPARQLWrapper(endpoint_url)\n",
        "sparql.setQuery(query)\n",
        "sparql.setReturnFormat(JSON)\n",
        "results = sparql.query().convert()\n",
        "\n",
        "for result in results[\"results\"][\"bindings\"]:\n",
        "    print(result[\"country\"][\"value\"])\n"
      ],
      "metadata": {
        "colab": {
          "base_uri": "https://localhost:8080/"
        },
        "id": "BvxeESE7vluy",
        "outputId": "b90bd16f-3954-4095-a91f-b59109a10680"
      },
      "execution_count": 76,
      "outputs": [
        {
          "output_type": "stream",
          "name": "stdout",
          "text": [
            "http://dbpedia.org/resource/Austria\n",
            "http://dbpedia.org/resource/http://dbpedia.org/resource/Germany\n"
          ]
        }
      ]
    },
    {
      "cell_type": "code",
      "source": [
        "dbo = Namespace(\"http://dbpedia.org/ontology/\")\n",
        "automaticallyconvertedgraph.bind(\"dbo\", dbo)\n",
        "for result in results[\"results\"][\"bindings\"]:\n",
        "  if \"Germany\" not in result[\"country\"][\"value\"]:\n",
        "    automaticallyconvertedgraph.add((URIRef(result[\"city\"][\"value\"]), dbo.Country, URIRef(result[\"country\"][\"value\"])))\n",
        "  else:\n",
        "    automaticallyconvertedgraph.add((URIRef(result[\"city\"][\"value\"]), dbo.Country, URIRef(result[\"country\"][\"value\"].replace(\"http://dbpedia.org/resource/\", \"\", 1))))\n"
      ],
      "metadata": {
        "id": "9vjdIg35wqYI"
      },
      "execution_count": 77,
      "outputs": []
    },
    {
      "cell_type": "code",
      "source": [
        "print(automaticallyconvertedgraph.serialize(format=\"ttl\"))"
      ],
      "metadata": {
        "colab": {
          "base_uri": "https://localhost:8080/"
        },
        "id": "fXKLRqTDMqeZ",
        "outputId": "07204c9b-663c-4773-ea3e-d9db87ff745d"
      },
      "execution_count": 78,
      "outputs": [
        {
          "output_type": "stream",
          "name": "stdout",
          "text": [
            "@prefix dbo: <http://dbpedia.org/ontology/> .\n",
            "@prefix dbr: <http://dbpedia.org/resource/> .\n",
            "@prefix ex: <https://www.example.org/> .\n",
            "\n",
            "ex:Bruno ex:age \"27\"^^<XSD.integer> ;\n",
            "    ex:hasRole ex:PhDStudent,\n",
            "        ex:Tutor ;\n",
            "    ex:isTutorOf ex:DHDK ;\n",
            "    ex:livesIn dbr:Munich ;\n",
            "    ex:name \"Bruno\" .\n",
            "\n",
            "ex:Valentina ex:age \"27\"^^<XSD.integer> ;\n",
            "    ex:hasRole ex:PhDStudent,\n",
            "        ex:Tutor ;\n",
            "    ex:isTutorOf ex:DHDK ;\n",
            "    ex:livesIn dbr:Bologna,\n",
            "        dbr:Graz ;\n",
            "    ex:name \"Valentina\" .\n",
            "\n",
            "dbr:Graz dbo:Country dbr:Austria .\n",
            "\n",
            "dbr:Munich dbo:Country dbr:Germany .\n",
            "\n",
            "\n"
          ]
        }
      ]
    },
    {
      "cell_type": "code",
      "source": [
        "#save the graph\n",
        "\n",
        "automaticallyconvertedgraph.serialize(destination=\"brunovalentinagraph.ttl\", format=\"ttl\")"
      ],
      "metadata": {
        "colab": {
          "base_uri": "https://localhost:8080/"
        },
        "id": "X8LVEgfbMugO",
        "outputId": "07bafe10-b4b1-4ff0-b7da-874c15cac70d"
      },
      "execution_count": 79,
      "outputs": [
        {
          "output_type": "execute_result",
          "data": {
            "text/plain": [
              "<Graph identifier=Nd037bad85ffe4c7f9e6976fd260b7315 (<class 'rdflib.graph.Graph'>)>"
            ]
          },
          "metadata": {},
          "execution_count": 79
        }
      ]
    },
    {
      "cell_type": "code",
      "source": [],
      "metadata": {
        "id": "_oNJSEF_OzY0"
      },
      "execution_count": null,
      "outputs": []
    }
  ]
}
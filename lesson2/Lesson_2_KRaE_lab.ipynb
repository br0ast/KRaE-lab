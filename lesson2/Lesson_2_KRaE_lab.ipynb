{
  "nbformat": 4,
  "nbformat_minor": 0,
  "metadata": {
    "colab": {
      "name": "Lesson 2 KRaE lab",
      "provenance": []
    },
    "kernelspec": {
      "name": "python3",
      "display_name": "Python 3"
    },
    "language_info": {
      "name": "python"
    }
  },
  "cells": [
    {
      "cell_type": "markdown",
      "metadata": {
        "id": "vq2j72h5fJe9"
      },
      "source": [
        "**If you are here only for the queries, scroll down until the next text block!**"
      ]
    },
    {
      "cell_type": "code",
      "metadata": {
        "id": "XqOVnv-MJCVI"
      },
      "source": [
        "import json #json is a built in package of python, more info here: \n",
        "# https://docs.python.org/3/library/json.html\n",
        "\n",
        "def cleandict(s): #this algorithm cleans the \"text\" strings of the json\n",
        "  #example of a text string: \"partner: Jeff- offspring: rosa, Vera, Sky\"\n",
        "  # result of the cleaning of that: {'offspring': {'Rosa', 'Sky', 'Vera'}, 'partners': {'Jeff'}}\n",
        "  newdict = dict()\n",
        "  news = s.replace(\"-\", \";\") #first thing we noticed, \"-\" and \";\" are used in the same way\n",
        "  news = news.replace(\" and \", \", \") #same thing for \"and\" and \", \"\n",
        "  pieces = news.split(\"; \") #we separate every different relationship\n",
        "  for el in pieces:\n",
        "    halfed = el.split(\": \") #we separate the name of the relationship from the values\n",
        "    if halfed[0] != \"offspring\" and halfed[0][-1] != \"s\": #we add the plural from for all but offspring\n",
        "      halfed = [halfed[0]+\"s\", halfed[1]] \n",
        "    multiple = halfed[1].split(\", \") #we separate each different value\n",
        "    newdict[halfed[0]] = set()\n",
        "    for mult in multiple:\n",
        "      newdict[halfed[0]].add(mult.title()) #we add to the dictionary every relationship with its values\n",
        "  return newdict\n",
        "\n",
        "\n",
        "with open(\"people.json\", \"r\") as jsonfile: #you have to load \"people.json\" that you can find here:\n",
        "  # link in google colab to do this\n",
        "  cleaned = dict()\n",
        "  data = json.load(jsonfile) # we can iterate over a json just like we iterate over\n",
        "  # a dictionary!\n",
        "  for el in data:\n",
        "    cleaned[el.title()] = cleandict(data[el]['text']) #we send to the algorithm the \n",
        "    # \"text\" value of the json for each element, which contains the uncleaned\n",
        "    # string that defines relationships and values. The result would be that\n",
        "    # for each key in the Json, there will be a dictionary of relationships\n",
        "\n"
      ],
      "execution_count": 1,
      "outputs": []
    },
    {
      "cell_type": "code",
      "metadata": {
        "id": "F7q9p4G1Jgbp"
      },
      "source": [
        "#let's check how it looks like now\n",
        "cleaned"
      ],
      "execution_count": null,
      "outputs": []
    },
    {
      "cell_type": "code",
      "metadata": {
        "id": "EHL66uzQT3sV"
      },
      "source": [
        "pip install rdflib"
      ],
      "execution_count": null,
      "outputs": []
    },
    {
      "cell_type": "code",
      "metadata": {
        "id": "hLWednAhOZF5"
      },
      "source": [
        "from rdflib import URIRef, BNode, Literal, Graph\n",
        "from rdflib.namespace import CSVW, DC, DCAT, DCTERMS, DOAP, FOAF, ODRL2, ORG, OWL, \\\n",
        "                           PROF, PROV, RDF, RDFS, SDO, SH, SKOS, SOSA, SSN, TIME, \\\n",
        "                           VOID, XMLNS, XSD\n",
        "from rdflib import Namespace\n",
        "\n",
        "per = Namespace(\"http://example.org/element/\")   #we use this to declare our prefix in the graph\n",
        "g = Graph() #we create the graph\n",
        "g.bind(\"per\", per) #\n",
        "g.bind(\"rdf\",  RDF)\n",
        "\n",
        "#we create a dictionary to map from the json names to the properties name, and also their inverse\n",
        "\n",
        "nameofpropertiesandinverse = {\"offspring\":{\"name\":\"hasOffspring\", \"inverse\":\"hasParent\"},\n",
        "                              \"siblings\":{\"name\":\"hasSibling\", \"inverse\":\"hasSibling\"},\n",
        "                              \"partners\":{\"name\":\"hasPartner\", \"inverse\":\"hasPartner\"},\n",
        "                              \"parents\":{\"name\":\"hasParent\", \"inverse\":\"hasOffspring\"},\n",
        "                              \"dogs\":{\"name\":\"hasPet\", \"inverse\":\"hasOwner\"},\n",
        "                              \"snakes\":{\"name\":\"hasPet\", \"inverse\":\"hasOwner\"},\n",
        "                              \"cats\":{\"name\":\"hasPet\", \"inverse\":\"hasOwner\"}}\n",
        "siblingdone = [] # list used for the hasSibling relationship\n",
        "for person in cleaned: #the json keys are also the name of the persons\n",
        "  g.add((URIRef(\"http://example.org/element/\"+person), RDF.type, per.Person))   #this is how we add a triple to our graph, a triple\n",
        "  # is added by creating a 3-element tuple in a subject, relationship, object structure\n",
        "  # in this case we added the uri of the person, then rdf:type relationship and the Person class in the ontology.\n",
        "  g.add((URIRef(\"http://example.org/element/\"+person), per.name, Literal(person)))\n",
        "  # in this other case we are adding the data property \"per:name\" to that same person\n",
        "  # everything that starts with a URIRef is a URI, if you want to add a literal you'd write Literal(anything) <- \n",
        "  for relationship in cleaned[person]:\n",
        "    if relationship == \"offspring\":\n",
        "      for sibling1 in cleaned[person][\"offspring\"]:\n",
        "        for sibling2 in cleaned[person][\"offspring\"]:\n",
        "          if sibling1 != sibling2 and (sibling1, sibling2) not in siblingdone: #the reasoning behind this is that if A hasSibiling B, then B hasSibiling A... so we add all these relationships\n",
        "            g.add((URIRef(\"http://example.org/element/\"+sibling1), per.hasSibling, URIRef(\"http://example.org/element/\"+sibling2)))\n",
        "            g.add((URIRef(\"http://example.org/element/\"+sibling1), per.hasSibling, URIRef(\"http://example.org/element/\"+sibling2)))\n",
        "            siblingdone.append((sibling1, sibling2))\n",
        "            siblingdone.append((sibling2, sibling1))\n",
        "    for value in cleaned[person][relationship]:\n",
        "      name = nameofpropertiesandinverse[relationship][\"name\"] # we take the name of the relationship from the dictionary we have created\n",
        "      inverse = nameofpropertiesandinverse[relationship][\"inverse\"]  # we take the inverse name of the relationship from the dictionary we have created\n",
        "      g.add((URIRef(\"http://example.org/element/\"+person), URIRef(\"http://example.org/element/\"+name), URIRef(\"http://example.org/element/\"+value)))\n",
        "      g.add((URIRef(\"http://example.org/element/\"+value), URIRef(\"http://example.org/element/\"+inverse), URIRef(\"http://example.org/element/\"+person)))\n",
        "      g.add((URIRef(\"http://example.org/element/\"+value), per.name, Literal(value)))\n",
        "      if relationship == \"offspring\" or relationship == \"sibilings\" or relationship == \"partners\" or relationship == \"parents\": #if the relationship is one of those, then we add the triple ?value (which is the object of the relationship) rdf:type per:Person\n",
        "        g.add((URIRef(\"http://example.org/element/\"+value), RDF.type, per.Person))\n",
        "      elif relationship == \"dogs\":  # if the relationship is \"dogs\" the type of the object is per:Dog\n",
        "        g.add((URIRef(\"http://example.org/element/\"+value), RDF.type, per.Dog))\n",
        "      elif relationship == \"snakes\":\n",
        "        g.add((URIRef(\"http://example.org/element/\"+value), RDF.type, per.Snake)) #and so on...\n",
        "      elif relationship == \"cats\":\n",
        "        g.add((URIRef(\"http://example.org/element/\"+value), RDF.type, per.Cat))\n",
        "\n",
        "print(g.serialize(format=\"turtle\").decode(\"utf-8\")) #this prints the serialization in turtle in the console\n",
        "# we can save the final turtle like this\n",
        "g.serialize(destination = \"abox.ttl\", format=\"turtle\") # this creates the final turtle"
      ],
      "execution_count": null,
      "outputs": []
    },
    {
      "cell_type": "code",
      "metadata": {
        "id": "zbvTryPpT2dz"
      },
      "source": [
        ""
      ],
      "execution_count": null,
      "outputs": []
    },
    {
      "cell_type": "markdown",
      "metadata": {
        "id": "kFDUAVn0fp_q"
      },
      "source": [
        "# Queries time!\n",
        "If you have already created the turtle following the code above you don't need to load it into google colab, otherwise if you have done it manually and if you have validated it in http://ttl.summerofcode.be/ you have to load it in google colab"
      ]
    },
    {
      "cell_type": "code",
      "metadata": {
        "id": "0lCZV_qUf5F_"
      },
      "source": [
        "# if you have already done the cleaning and automatic generation you don't have to install rdflib again, otherwise you \n",
        "# have to run this line\n",
        "\n",
        "pip install rdflib"
      ],
      "execution_count": null,
      "outputs": []
    },
    {
      "cell_type": "code",
      "metadata": {
        "id": "scjrQ4uSgY4N"
      },
      "source": [
        "import rdflib\n",
        "from rdflib.namespace import CSVW, DC, DCAT, DCTERMS, DOAP, FOAF, ODRL2, ORG, OWL, \\\n",
        "                           PROF, PROV, RDF, RDFS, SDO, SH, SKOS, SOSA, SSN, TIME, \\\n",
        "                           VOID, XMLNS, XSD\n",
        "from rdflib import Namespace"
      ],
      "execution_count": 6,
      "outputs": []
    },
    {
      "cell_type": "code",
      "metadata": {
        "id": "DRHt0L_tgZ9o"
      },
      "source": [
        "newg = rdflib.Graph() # we create a new graph\n",
        "\n",
        "newg.parse(\"abox.ttl\", format=\"ttl\") # we insert the graph we have created into the new graph\n",
        "#below you write your query (right now there is an example of retrieving all the subjects)\n",
        "querytext = '''\n",
        "PREFIX per: <http://example.org/element/> \n",
        "SELECT ?s WHERE {?s ?p ?o} LIMIT 10\n",
        "'''\n",
        "qres = newg.query(querytext) # we create a result file in which there are the results retrieved by the query\n",
        "\n",
        "for row in qres:\n",
        "    print(row) #we print each line of this file to see the retrieved elements"
      ],
      "execution_count": null,
      "outputs": []
    },
    {
      "cell_type": "markdown",
      "metadata": {
        "id": "OddnpgtKLJth"
      },
      "source": [
        "Let's try to transform the competency questions into sparql queries using our ontology:\n",
        "\n",
        "CQ1) Which people have siblings who have offspring?\n",
        "CQ2) What is the name of the dogs whose owner has parents?\n",
        "CQ3) Which partners don’t have offspring?\n",
        "CQ4) Which offspring have parents who have parents as well?\n",
        "\n",
        "\n",
        "CQ1\n",
        "\n",
        "\n",
        "\n",
        "```\n",
        "PREFIX per: <http://example.org/element/> \n",
        "SELECT ?person WHERE { ?person per:hasSibling ?person2 .\n",
        "?person2 per:hasOffspring ?offspring }\n",
        "\n",
        "```\n",
        "\n",
        "CQ1 expected result\n",
        "\n",
        "\n",
        "\n",
        "```\n",
        "Cloud\n",
        "```\n",
        "CQ2\n",
        "\n",
        "\n",
        "\n",
        "```\n",
        "PREFIX per:  <http://example.org/element/> \n",
        "SELECT distinct ?name WHERE { ?dog a per:Dog;\n",
        "per:hasOwner ?person ;\n",
        "per:name ?name .\n",
        "?parent per:hasOffspring ?person . }\n",
        "```\n",
        "\n",
        "CQ2 expected result\n",
        "\n",
        "```\n",
        "“Lulu”\n",
        "“Fire”\n",
        "“Grass”\n",
        "“Water”\n",
        "```\n",
        "\n",
        "CQ3\n",
        "\n",
        "```\n",
        "PREFIX per:  <http://example.org/element/> \n",
        "SELECT distinct ?partner WHERE { ?partner per:hasPartner ?partner2 .\n",
        "MINUS {?partner per:hasOffspring ?offspring}\n",
        "MINUS {?partner2 per:hasOffspring ?offspring} }\n",
        "```\n",
        "\n",
        "CQ3 expected result\n",
        "\n",
        "```\n",
        "Cloud\n",
        "Sky\n",
        "```\n",
        "\n",
        "CQ4\n",
        "\n",
        "```\n",
        "PREFIX per:  <http://example.org/element/> \n",
        "SELECT distinct ?offspring WHERE { \n",
        "  ?offspring per:hasParent ?parent .\n",
        "  ?parent per:hasParent ?otherparent .\n",
        " }\n",
        "```\n",
        "\n",
        "CQ4 expected result\n",
        "\n",
        "```\n",
        "Diamond\n",
        "```\n",
        "\n",
        "Below you will see block of codes for each of the questions with the retrieved answers.\n"
      ]
    },
    {
      "cell_type": "code",
      "metadata": {
        "id": "yqK7rZp4L5RX"
      },
      "source": [
        "cq1 = '''\n",
        "PREFIX per: <http://example.org/element/> \n",
        "SELECT ?person WHERE { ?person per:hasSibling ?person2 .\n",
        "?person2 per:hasOffspring ?offspring }'''\n",
        "\n",
        "cq1res = newg.query(cq1)\n",
        "\n",
        "for row in cq1res:\n",
        "    print(row)\n"
      ],
      "execution_count": null,
      "outputs": []
    },
    {
      "cell_type": "code",
      "metadata": {
        "id": "OdWloZa2MAe2"
      },
      "source": [
        "cq2 = '''\n",
        "PREFIX per:  <http://example.org/element/> \n",
        "SELECT distinct ?name WHERE { ?dog a per:Dog;\n",
        "per:hasOwner ?person ;\n",
        "per:name ?name .\n",
        "?parent per:hasOffspring ?person . }\n",
        "'''\n",
        "\n",
        "cq2res = newg.query(cq2)\n",
        "\n",
        "for row in cq2res:\n",
        "  print(row)"
      ],
      "execution_count": null,
      "outputs": []
    },
    {
      "cell_type": "code",
      "metadata": {
        "id": "niwLOBYeMsnb"
      },
      "source": [
        "cq3 = '''\n",
        "PREFIX per:  <http://example.org/element/> \n",
        "SELECT distinct ?partner WHERE { ?partner per:hasPartner ?partner2 .\n",
        "MINUS {?partner per:hasOffspring ?offspring}\n",
        "MINUS {?partner2 per:hasOffspring ?offspring} }\n",
        "'''\n",
        "\n",
        "cq3res = newg.query(cq3)\n",
        "\n",
        "for row in cq3res:\n",
        "  print(row)"
      ],
      "execution_count": null,
      "outputs": []
    },
    {
      "cell_type": "code",
      "metadata": {
        "id": "E00Qr3D1OKmJ"
      },
      "source": [
        "cq4 = '''\n",
        "PREFIX per:  <http://example.org/element/> \n",
        "SELECT distinct ?offspring WHERE { \n",
        "  ?offspring per:hasParent ?parent .\n",
        "  ?parent per:hasParent ?otherparent .\n",
        " }\n",
        "'''\n",
        "\n",
        "cq4res = newg.query(cq4)\n",
        "\n",
        "for row in cq4res:\n",
        "  print(row)"
      ],
      "execution_count": null,
      "outputs": []
    },
    {
      "cell_type": "markdown",
      "metadata": {
        "id": "wW84LSdvQFiY"
      },
      "source": [
        "We can now say that our ontology is able to answer the competency questions!"
      ]
    }
  ]
}
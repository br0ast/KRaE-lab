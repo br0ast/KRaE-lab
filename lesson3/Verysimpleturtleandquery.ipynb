{
  "nbformat": 4,
  "nbformat_minor": 0,
  "metadata": {
    "colab": {
      "name": "Verysimpleturtleandquery",
      "provenance": []
    },
    "kernelspec": {
      "name": "python3",
      "display_name": "Python 3"
    },
    "language_info": {
      "name": "python"
    }
  },
  "cells": [
    {
      "cell_type": "code",
      "metadata": {
        "id": "_QYeN5SG3bO0"
      },
      "source": [
        "pip install rdflib"
      ],
      "execution_count": null,
      "outputs": []
    },
    {
      "cell_type": "code",
      "metadata": {
        "id": "nLY8hKWT5U_W"
      },
      "source": [
        "import rdflib\n",
        "from rdflib import URIRef, BNode, Literal, Graph\n",
        "from rdflib.namespace import CSVW, DC, DCAT, DCTERMS, DOAP, FOAF, ODRL2, ORG, OWL, \\\n",
        "                           PROF, PROV, RDF, RDFS, SDO, SH, SKOS, SOSA, SSN, TIME, \\\n",
        "                           VOID, XMLNS, XSD\n",
        "from rdflib import Namespace"
      ],
      "execution_count": 10,
      "outputs": []
    },
    {
      "cell_type": "code",
      "metadata": {
        "id": "HdIwEZcO3eKs"
      },
      "source": [
        "otriples = [ (\"Charmender\", \"type\", \"Pokemon\"),\n",
        "           (\"Charmeleon\", \"type\", \"Pokemon\"),\n",
        "           (\"Charizard\", \"type\", \"Pokemon\"),\n",
        "           (\"Abra\", \"type\", \"Pokemon\"),\n",
        "           (\"Kadabra\", \"type\", \"Pokemon\"),\n",
        "           (\"Alakazam\", \"type\", \"Pokemon\"),\n",
        "           (\"Stantler\", \"type\", \"Pokemon\"),\n",
        "           (\"charmenderEv\", \"type\", \"Evolution\"),\n",
        "           (\"charmenderEv\", \"evolvedPokemon\", \"Charmeleon\"),\n",
        "           (\"charmenderEv\", \"evolvingPokemon\", \"Charmender\"),\n",
        "           (\"charmenderEv\", \"hasCondition\", \"level16\"),\n",
        "           (\"charmenleonEv\", \"type\", \"Evolution\"),\n",
        "           (\"charmenleonEv\", \"evolvedPokemon\", \"Charizard\"),\n",
        "           (\"charmenleonEv\", \"evolvingPokemon\", \"Charmeleon\"),\n",
        "           (\"charmenleonEv\", \"hasCondition\", \"level36\"),\n",
        "           (\"abraEv\", \"type\", \"Evolution\"),\n",
        "           (\"abraEv\", \"evolvedPokemon\", \"Kadabra\"),\n",
        "           (\"abraEv\", \"evolvingPokemon\", \"Abra\"),\n",
        "           (\"abraEv\", \"hasCondition\", \"level20\"),\n",
        "           (\"kadabraEv\", \"type\", \"Evolution\"),\n",
        "           (\"kadabraEv\", \"evolvedPokemon\", \"Alakazam\"),\n",
        "           (\"kadabraEv\", \"evolvingPokemon\", \"Kadabra\"),\n",
        "           (\"kadabraEv\", \"hasCondition\", \"kadabraTrade\")\n",
        "           ]"
      ],
      "execution_count": 47,
      "outputs": []
    },
    {
      "cell_type": "code",
      "metadata": {
        "id": "LSHncaD35JGd"
      },
      "source": [
        "def createturtle (ontology, prefix, triples=otriples, name=\"abox.ttl\"): #as ontology you need to put the fake url of the ontology\n",
        "# remember to use \"http://\" at the beginning, the prefix is the string you use as a prefix, like \"pk\", names and triples\n",
        "# are already selected: triples is the list of tuples\n",
        "# you have created earlier, name will be abox.ttl\n",
        "  ont = Namespace(ontology)\n",
        "  g = Graph() \n",
        "  g.bind(prefix, ont) \n",
        "  g.bind(\"rdf\",  RDF)\n",
        "  for triple in triples:\n",
        "    if triple[1] == \"type\":\n",
        "      g.add((URIRef(ontology+triple[0]), RDF.type, URIRef(ontology+triple[2])))\n",
        "    else:\n",
        "      g.add((URIRef(ontology+triple[0]), URIRef(ontology+triple[1]), URIRef(ontology+triple[2])))\n",
        "  print(g.serialize(format=\"turtle\").decode(\"utf-8\"))\n",
        "  g.serialize(destination = name, format=\"turtle\")"
      ],
      "execution_count": 48,
      "outputs": []
    },
    {
      "cell_type": "code",
      "metadata": {
        "id": "dbxmucMe6ciM"
      },
      "source": [
        "createturtle(\"http://example.org/pk/\", \"pk\")"
      ],
      "execution_count": null,
      "outputs": []
    },
    {
      "cell_type": "code",
      "metadata": {
        "id": "19fLXauO6oU3"
      },
      "source": [
        "def queryturtle(querytext, filename=\"abox.ttl\"): #this algorithm just needs the filename (if not changed it will use abox.ttl)\n",
        "# and the text of the query and it will print the results of the query.\n",
        "  newg = rdflib.Graph() \n",
        "  newg.parse(filename, format=\"ttl\") \n",
        "  qres = newg.query(querytext)\n",
        "\n",
        "  for row in qres:\n",
        "    print(row)"
      ],
      "execution_count": 50,
      "outputs": []
    },
    {
      "cell_type": "code",
      "metadata": {
        "id": "0cWriJFw7O6V"
      },
      "source": [
        "cqs = [(\"Retrieve the conditions of a certain Pokémon (for example Charmender) evolution.\", '''\n",
        "prefix pk: <http://example.org/pk/>\n",
        "select ?condition where { ?evolution pk:evolvingPokemon pk:Charmender;\n",
        "                          pk:hasCondition ?condition }\n",
        "'''),\n",
        "(\"Retrieve the Pokémon that are not part of any evolution.\", '''\n",
        "prefix pk: <http://example.org/pk/>\n",
        "select ?pokemon where { ?pokemon a pk:Pokemon . MINUS {?ev pk:evolvingPokemon ?pokemon }\n",
        "MINUS {?ev pk:evolvedPokemon ?pokemon}}\n",
        "''')]"
      ],
      "execution_count": 51,
      "outputs": []
    },
    {
      "cell_type": "code",
      "metadata": {
        "id": "1_HXgGjc82-e"
      },
      "source": [
        "for text, query in cqs:\n",
        "  print(\"Query text:\")\n",
        "  print(text)\n",
        "  print(\"Query result:\")\n",
        "  queryturtle(query, \"abox.ttl\")\n"
      ],
      "execution_count": null,
      "outputs": []
    },
    {
      "cell_type": "code",
      "metadata": {
        "id": "ZFczKiUy9ICL"
      },
      "source": [
        ""
      ],
      "execution_count": null,
      "outputs": []
    }
  ]
}
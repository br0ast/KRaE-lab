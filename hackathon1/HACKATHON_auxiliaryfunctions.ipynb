{
  "nbformat": 4,
  "nbformat_minor": 0,
  "metadata": {
    "colab": {
      "name": "HACKATHON-auxiliaryfunctions.ipynb",
      "provenance": []
    },
    "kernelspec": {
      "name": "python3",
      "display_name": "Python 3"
    },
    "language_info": {
      "name": "python"
    }
  },
  "cells": [
    {
      "cell_type": "code",
      "metadata": {
        "colab": {
          "base_uri": "https://localhost:8080/"
        },
        "id": "CQlSJG1s7X4M",
        "outputId": "68452f83-9972-4f39-e57b-f13aea6e662c"
      },
      "source": [
        "pip install rdflib"
      ],
      "execution_count": 1,
      "outputs": [
        {
          "output_type": "stream",
          "text": [
            "Collecting rdflib\n",
            "\u001b[?25l  Downloading https://files.pythonhosted.org/packages/d0/6b/6454aa1db753c0f8bc265a5bd5c10b5721a4bb24160fb4faf758cf6be8a1/rdflib-5.0.0-py3-none-any.whl (231kB)\n",
            "\r\u001b[K     |█▍                              | 10kB 14.5MB/s eta 0:00:01\r\u001b[K     |██▉                             | 20kB 20.0MB/s eta 0:00:01\r\u001b[K     |████▎                           | 30kB 12.6MB/s eta 0:00:01\r\u001b[K     |█████▊                          | 40kB 10.0MB/s eta 0:00:01\r\u001b[K     |███████                         | 51kB 9.0MB/s eta 0:00:01\r\u001b[K     |████████▌                       | 61kB 9.5MB/s eta 0:00:01\r\u001b[K     |██████████                      | 71kB 8.1MB/s eta 0:00:01\r\u001b[K     |███████████▍                    | 81kB 8.6MB/s eta 0:00:01\r\u001b[K     |████████████▊                   | 92kB 8.7MB/s eta 0:00:01\r\u001b[K     |██████████████▏                 | 102kB 8.2MB/s eta 0:00:01\r\u001b[K     |███████████████▋                | 112kB 8.2MB/s eta 0:00:01\r\u001b[K     |█████████████████               | 122kB 8.2MB/s eta 0:00:01\r\u001b[K     |██████████████████▍             | 133kB 8.2MB/s eta 0:00:01\r\u001b[K     |███████████████████▉            | 143kB 8.2MB/s eta 0:00:01\r\u001b[K     |█████████████████████▎          | 153kB 8.2MB/s eta 0:00:01\r\u001b[K     |██████████████████████▊         | 163kB 8.2MB/s eta 0:00:01\r\u001b[K     |████████████████████████        | 174kB 8.2MB/s eta 0:00:01\r\u001b[K     |█████████████████████████▌      | 184kB 8.2MB/s eta 0:00:01\r\u001b[K     |███████████████████████████     | 194kB 8.2MB/s eta 0:00:01\r\u001b[K     |████████████████████████████▍   | 204kB 8.2MB/s eta 0:00:01\r\u001b[K     |█████████████████████████████▉  | 215kB 8.2MB/s eta 0:00:01\r\u001b[K     |███████████████████████████████▏| 225kB 8.2MB/s eta 0:00:01\r\u001b[K     |████████████████████████████████| 235kB 8.2MB/s \n",
            "\u001b[?25hCollecting isodate\n",
            "\u001b[?25l  Downloading https://files.pythonhosted.org/packages/9b/9f/b36f7774ff5ea8e428fdcfc4bb332c39ee5b9362ddd3d40d9516a55221b2/isodate-0.6.0-py2.py3-none-any.whl (45kB)\n",
            "\r\u001b[K     |███████▏                        | 10kB 18.8MB/s eta 0:00:01\r\u001b[K     |██████████████▍                 | 20kB 23.8MB/s eta 0:00:01\r\u001b[K     |█████████████████████▌          | 30kB 28.6MB/s eta 0:00:01\r\u001b[K     |████████████████████████████▊   | 40kB 32.5MB/s eta 0:00:01\r\u001b[K     |████████████████████████████████| 51kB 5.8MB/s \n",
            "\u001b[?25hRequirement already satisfied: pyparsing in /usr/local/lib/python3.7/dist-packages (from rdflib) (2.4.7)\n",
            "Requirement already satisfied: six in /usr/local/lib/python3.7/dist-packages (from rdflib) (1.15.0)\n",
            "Installing collected packages: isodate, rdflib\n",
            "Successfully installed isodate-0.6.0 rdflib-5.0.0\n"
          ],
          "name": "stdout"
        }
      ]
    },
    {
      "cell_type": "code",
      "metadata": {
        "id": "siT0nEZf74qo"
      },
      "source": [
        "import rdflib\n",
        "from rdflib import URIRef, BNode, Literal, Graph\n",
        "from rdflib.namespace import CSVW, DC, DCAT, DCTERMS, DOAP, FOAF, ODRL2, ORG, OWL, \\\n",
        "                           PROF, PROV, RDF, RDFS, SDO, SH, SKOS, SOSA, SSN, TIME, \\\n",
        "                           VOID, XMLNS, XSD\n",
        "from rdflib import Namespace\n",
        "import csv\n",
        "from csv import DictReader"
      ],
      "execution_count": 3,
      "outputs": []
    },
    {
      "cell_type": "code",
      "metadata": {
        "id": "0RP_BAr_8kpZ"
      },
      "source": [
        "path = \"query (7).csv\" #original file\n",
        "namespace = \"http://example.org/\" #needs to be the same namespace of the construct query\n",
        "filename = \"aboxexhibition.ttl\" #newfile\n",
        "prefix = \"ex\""
      ],
      "execution_count": 5,
      "outputs": []
    },
    {
      "cell_type": "code",
      "metadata": {
        "id": "_YqL7lNB811-"
      },
      "source": [
        "def csvtoturtle(fname, prefix, filepath, nspace):\n",
        "  ont = Namespace(nspace)\n",
        "  wd = Namespace(\"http://www.wikidata.org/entity/\")\n",
        "  wdt = Namespace(\"http://www.wikidata.org/prop/direct/\")\n",
        "  g = Graph() \n",
        "  g.bind(prefix, ont) \n",
        "  g.bind(\"rdf\",  RDF)\n",
        "  g.bind(\"wd\", wd)\n",
        "  g.bind(\"wdt\", wdt)\n",
        "  with open(path, \"r\") as csvfile:\n",
        "    reader = DictReader(csvfile)\n",
        "    for row in reader:\n",
        "      s = row[\"subject\"]\n",
        "      p = row[\"predicate\"]\n",
        "      o = row[\"object\"]\n",
        "      if \"http\" in o:\n",
        "        g.add((URIRef(s), URIRef(p), URIRef(o)))\n",
        "      else:\n",
        "        g.add((URIRef(s), URIRef(p), Literal(o)))\n",
        "  print(g.serialize(format=\"turtle\").decode(\"utf-8\"))\n",
        "  g.serialize(destination = fname, format=\"turtle\")\n"
      ],
      "execution_count": 8,
      "outputs": []
    },
    {
      "cell_type": "code",
      "metadata": {
        "colab": {
          "base_uri": "https://localhost:8080/"
        },
        "id": "c165pWRg-TOm",
        "outputId": "0c111171-68ac-4a92-d235-6ddf81091519"
      },
      "source": [
        "csvtoturtle(filename, prefix, path, namespace)"
      ],
      "execution_count": 9,
      "outputs": [
        {
          "output_type": "stream",
          "text": [
            "@prefix ex: <http://example.org/> .\n",
            "@prefix wd: <http://www.wikidata.org/entity/> .\n",
            "\n",
            "wd:Q12418 ex:something ex:Exhibition1 ;\n",
            "    ex:somethingelse \"Mona Lisa\" .\n",
            "\n",
            "wd:Q3211030 ex:something ex:Exhibition1 ;\n",
            "    ex:somethingelse \"Birth of Venus\" .\n",
            "\n",
            "ex:Exhibition1 a ex:Exhibition .\n",
            "\n",
            "\n"
          ],
          "name": "stdout"
        }
      ]
    },
    {
      "cell_type": "code",
      "metadata": {
        "id": "3i9q_ZLE-vuI"
      },
      "source": [
        ""
      ],
      "execution_count": null,
      "outputs": []
    },
    {
      "cell_type": "markdown",
      "metadata": {
        "id": "Odp0oay7GWUb"
      },
      "source": [
        "# Add more triples to an existing graph\n"
      ]
    },
    {
      "cell_type": "code",
      "metadata": {
        "id": "8M9wWTtsGnNm"
      },
      "source": [
        "moretriples = [(\"http://www.wikidata.org/entity/Q12418\", \"doesNotBelongTo\", \"Exhibition2\"),\n",
        "               (\"Exhibition1\", \"title\", \"Literal:The ancient Roman Empire Exhibition\")]"
      ],
      "execution_count": 24,
      "outputs": []
    },
    {
      "cell_type": "code",
      "metadata": {
        "id": "Prv1RIvRGd8S"
      },
      "source": [
        "def addmoretriples(nspace, prefix, gr, additionaltriples):\n",
        "  ont = Namespace(nspace)\n",
        "  wd = Namespace(\"http://www.wikidata.org/entity/\")\n",
        "  wdt = Namespace(\"http://www.wikidata.org/prop/direct/\")\n",
        "  newg = rdflib.Graph() \n",
        "  newg.parse(gr, format=\"ttl\")\n",
        "  newg.bind(prefix, ont) \n",
        "  newg.bind(\"rdf\",  RDF)\n",
        "  newg.bind(\"wd\", wd)\n",
        "  newg.bind(\"wdt\", wdt)\n",
        "  for triple in additionaltriples:\n",
        "    if \"http\" in triple[0]:\n",
        "      s = URIRef(triple[0])\n",
        "    else:\n",
        "      s = URIRef(nspace+triple[0])\n",
        "    if \"http\" in triple[1]:\n",
        "      p = URIRef(triple[1])\n",
        "    elif triple[1] == \"type\":\n",
        "      p = URIRef(RDF.type)\n",
        "    else:\n",
        "      p = URIRef(nspace+triple[1])\n",
        "    if \"http\" in triple[2]:\n",
        "      o = URIRef(triple[2])\n",
        "    elif \"Literal:\" in triple[2]:\n",
        "      o = Literal(triple[2].split(\"Literal:\")[1])\n",
        "    else:\n",
        "      o = URIRef(nspace+triple[2])\n",
        "    newg.add((s,p,o))\n",
        "  print(newg.serialize(format=\"turtle\").decode(\"utf-8\"))\n",
        "  newg.serialize(destination = \"new\"+gr, format=\"turtle\")\n"
      ],
      "execution_count": 25,
      "outputs": []
    },
    {
      "cell_type": "code",
      "metadata": {
        "colab": {
          "base_uri": "https://localhost:8080/"
        },
        "id": "ATeD4qrRJ_-E",
        "outputId": "7c6b5cc1-1a55-4687-caa2-37bb900b0bdc"
      },
      "source": [
        "addmoretriples(\"http://example.org/\", \"ex\", \"graph.ttl\", moretriples)"
      ],
      "execution_count": 26,
      "outputs": [
        {
          "output_type": "stream",
          "text": [
            "@prefix ex: <http://example.org/> .\n",
            "@prefix wd: <http://www.wikidata.org/entity/> .\n",
            "\n",
            "wd:Q12418 ex:doesNotBelongTo ex:Exhibition2 ;\n",
            "    ex:something ex:Exhibition1 ;\n",
            "    ex:somethingelse \"Mona Lisa\" .\n",
            "\n",
            "wd:Q3211030 ex:something ex:Exhibition1 ;\n",
            "    ex:somethingelse \"Birth of Venus\" .\n",
            "\n",
            "ex:Exhibition1 a ex:Exhibition ;\n",
            "    ex:title \"The ancient Roman Empire Exhibition\" .\n",
            "\n",
            "\n"
          ],
          "name": "stdout"
        }
      ]
    },
    {
      "cell_type": "code",
      "metadata": {
        "id": "dQ6WFRQRKUBF"
      },
      "source": [
        ""
      ],
      "execution_count": null,
      "outputs": []
    },
    {
      "cell_type": "markdown",
      "metadata": {
        "id": "ttwNoQybNVC7"
      },
      "source": [
        "# Join two Graphs"
      ]
    },
    {
      "cell_type": "code",
      "metadata": {
        "id": "cRh5V3tHNXHB"
      },
      "source": [
        "def jointwographs(graph1filename, graph2filename, finalgraphfilename):\n",
        "  g1 = rdflib.Graph()\n",
        "  g2 = rdflib.Graph()\n",
        "  g1.parse(graph1filename, format=\"turtle\")\n",
        "  g2.parse(graph2filename, format=\"turtle\")\n",
        "  finalgraph = g1+g2\n",
        "  print(graph.serialize(format=\"turtle\").decode(\"utf-8\"))\n",
        "  graph.serialize(destination=finalgraphfilename, format=\"turtle\")\n"
      ],
      "execution_count": 27,
      "outputs": []
    },
    {
      "cell_type": "code",
      "metadata": {
        "id": "PE1gKY7fOAkk"
      },
      "source": [
        ""
      ],
      "execution_count": null,
      "outputs": []
    }
  ]
}